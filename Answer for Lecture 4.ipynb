{
 "cells": [
  {
   "cell_type": "markdown",
   "metadata": {},
   "source": [
    "#### 随堂练习答案\n",
    "\n",
    "Lecture 4：分组"
   ]
  },
  {
   "cell_type": "code",
   "execution_count": 2,
   "metadata": {},
   "outputs": [],
   "source": [
    "import pandas as pd\n",
    "import numpy as np"
   ]
  },
  {
   "cell_type": "code",
   "execution_count": 8,
   "metadata": {},
   "outputs": [
    {
     "data": {
      "text/plain": [
       "Weight\n",
       "high      174.935714\n",
       "low       155.891071\n",
       "normal    162.255294\n",
       "Name: Height, dtype: float64"
      ]
     },
     "execution_count": 8,
     "metadata": {},
     "output_type": "execute_result"
    }
   ],
   "source": [
    "#思考一：根据0.25分位数和0.75分位数进行分割，将体重分为high、normal和low这三组，统计每组身高的均值。\n",
    "df=pd.read_csv('data/learn_pandas.csv')\n",
    "q25=df.Weight.quantile(0.25)\n",
    "q75=df.Weight.quantile(0.75)\n",
    "q25\n",
    "w_dic={0:'low',1:'normal',2:'high'}\n",
    "# ((df.Weight>q25)*1+(df.Weight>q75)*1)\n",
    "condition=((df.Weight>q25)*1+(df.Weight>q75)*1).replace(w_dic)\n",
    "condition\n",
    "df.groupby(condition)['Height'].mean()"
   ]
  },
  {
   "cell_type": "code",
   "execution_count": 12,
   "metadata": {},
   "outputs": [
    {
     "data": {
      "text/plain": [
       "MultiIndex([(             'Fudan University',    'Junior'),\n",
       "            (             'Fudan University',    'Senior'),\n",
       "            (            'Peking University',  'Freshman'),\n",
       "            (            'Peking University',    'Junior'),\n",
       "            (            'Peking University',    'Senior'),\n",
       "            (            'Peking University', 'Sophomore'),\n",
       "            ('Shanghai Jiao Tong University',    'Senior'),\n",
       "            (          'Tsinghua University',  'Freshman'),\n",
       "            (          'Tsinghua University',    'Junior'),\n",
       "            (          'Tsinghua University',    'Senior'),\n",
       "            (          'Tsinghua University', 'Sophomore')],\n",
       "           names=['School', 'Grade'])"
      ]
     },
     "execution_count": 12,
     "metadata": {},
     "output_type": "execute_result"
    }
   ],
   "source": [
    "#思考2：在learn_pandas.csv数据集中，Transfer列元素为“N”时表示该同学不是转系生，请按照学校和年级两列分组，找出所有不含转系生的组对应的学校和年级\n",
    "res=(df.Transfer=='N').groupby([df.School,df.Grade]).all()\n",
    "res\n",
    "res[~res].index\n",
    "# df[df.Transfer=='N'].groupby([df.School,df.Grade]).all().index"
   ]
  },
  {
   "cell_type": "code",
   "execution_count": 24,
   "metadata": {},
   "outputs": [],
   "source": [
    "#练习1\n",
    "df=pd.read_csv('data/Ex/car.csv')"
   ]
  },
  {
   "cell_type": "code",
   "execution_count": 26,
   "metadata": {},
   "outputs": [
    {
     "data": {
      "text/plain": [
       "array(['Eagle Summit 4', 'Ford Escort   4', 'Ford Festiva 4',\n",
       "       'Honda Civic 4', 'Mazda Protege 4', 'Nissan Sentra 4',\n",
       "       'Pontiac LeMans 4', 'Subaru Loyale 4', 'Subaru Justy 3',\n",
       "       'Toyota Corolla 4', 'Toyota Tercel 4', 'Chevrolet Camaro V8',\n",
       "       'Dodge Daytona', 'Ford Mustang V8', 'Ford Probe',\n",
       "       'Honda Civic CRX Si 4', 'Honda Prelude Si 4WS 4', 'Nissan 240SX 4',\n",
       "       'Plymouth Laser', 'Subaru XT 4', 'Buick Skylark 4',\n",
       "       'Chevrolet Beretta 4', 'Chrysler Le Baron V6', 'Ford Tempo 4',\n",
       "       'Honda Accord 4', 'Mazda 626 4', 'Mitsubishi Galant 4',\n",
       "       'Mitsubishi Sigma V6', 'Nissan Stanza 4', 'Oldsmobile Calais 4',\n",
       "       'Subaru Legacy 4', 'Toyota Camry 4', 'Acura Legend V6',\n",
       "       'Buick Century 4', 'Chrysler Le Baron Coupe',\n",
       "       'Chrysler New Yorker V6', 'Eagle Premier V6', 'Ford Taurus V6',\n",
       "       'Ford Thunderbird V6', 'Hyundai Sonata 4', 'Mazda 929 V6',\n",
       "       'Nissan Maxima V6', 'Oldsmobile Cutlass Ciera 4',\n",
       "       'Oldsmobile Cutlass Supreme V6', 'Toyota Cressida 6',\n",
       "       'Buick Le Sabre V6', 'Chevrolet Caprice V8',\n",
       "       'Ford LTD Crown Victoria V8', 'Chevrolet Lumina APV V6',\n",
       "       'Dodge Grand Caravan V6', 'Ford Aerostar V6', 'Mazda MPV V6',\n",
       "       'Mitsubishi Wagon 4', 'Nissan Axxess 4', 'Nissan Van 4'],\n",
       "      dtype=object)"
      ]
     },
     "execution_count": 26,
     "metadata": {},
     "output_type": "execute_result"
    }
   ],
   "source": [
    "res=df.Brand[df.groupby('Country')['Country'].transform(lambda x:x.shape[0]>2)]\n",
    "res.values"
   ]
  },
  {
   "cell_type": "code",
   "execution_count": 27,
   "metadata": {},
   "outputs": [
    {
     "data": {
      "text/html": [
       "<div>\n",
       "<style scoped>\n",
       "    .dataframe tbody tr th:only-of-type {\n",
       "        vertical-align: middle;\n",
       "    }\n",
       "\n",
       "    .dataframe tbody tr th {\n",
       "        vertical-align: top;\n",
       "    }\n",
       "\n",
       "    .dataframe thead th {\n",
       "        text-align: right;\n",
       "    }\n",
       "</style>\n",
       "<table border=\"1\" class=\"dataframe\">\n",
       "  <thead>\n",
       "    <tr style=\"text-align: right;\">\n",
       "      <th></th>\n",
       "      <th>价格均值</th>\n",
       "      <th>价格变异稀疏</th>\n",
       "      <th>汽车数量</th>\n",
       "    </tr>\n",
       "    <tr>\n",
       "      <th>Country</th>\n",
       "      <th></th>\n",
       "      <th></th>\n",
       "      <th></th>\n",
       "    </tr>\n",
       "  </thead>\n",
       "  <tbody>\n",
       "    <tr>\n",
       "      <th>France</th>\n",
       "      <td>15930.000000</td>\n",
       "      <td>NaN</td>\n",
       "      <td>1</td>\n",
       "    </tr>\n",
       "    <tr>\n",
       "      <th>Germany</th>\n",
       "      <td>14447.500000</td>\n",
       "      <td>0.435839</td>\n",
       "      <td>2</td>\n",
       "    </tr>\n",
       "    <tr>\n",
       "      <th>Japan</th>\n",
       "      <td>13938.052632</td>\n",
       "      <td>0.387429</td>\n",
       "      <td>19</td>\n",
       "    </tr>\n",
       "    <tr>\n",
       "      <th>Japan/USA</th>\n",
       "      <td>10067.571429</td>\n",
       "      <td>0.240040</td>\n",
       "      <td>7</td>\n",
       "    </tr>\n",
       "    <tr>\n",
       "      <th>Korea</th>\n",
       "      <td>7857.333333</td>\n",
       "      <td>0.243435</td>\n",
       "      <td>3</td>\n",
       "    </tr>\n",
       "    <tr>\n",
       "      <th>Mexico</th>\n",
       "      <td>8672.000000</td>\n",
       "      <td>NaN</td>\n",
       "      <td>1</td>\n",
       "    </tr>\n",
       "    <tr>\n",
       "      <th>Sweden</th>\n",
       "      <td>18450.000000</td>\n",
       "      <td>NaN</td>\n",
       "      <td>1</td>\n",
       "    </tr>\n",
       "    <tr>\n",
       "      <th>USA</th>\n",
       "      <td>12543.269231</td>\n",
       "      <td>0.203344</td>\n",
       "      <td>26</td>\n",
       "    </tr>\n",
       "  </tbody>\n",
       "</table>\n",
       "</div>"
      ],
      "text/plain": [
       "                   价格均值    价格变异稀疏  汽车数量\n",
       "Country                                \n",
       "France     15930.000000       NaN     1\n",
       "Germany    14447.500000  0.435839     2\n",
       "Japan      13938.052632  0.387429    19\n",
       "Japan/USA  10067.571429  0.240040     7\n",
       "Korea       7857.333333  0.243435     3\n",
       "Mexico      8672.000000       NaN     1\n",
       "Sweden     18450.000000       NaN     1\n",
       "USA        12543.269231  0.203344    26"
      ]
     },
     "execution_count": 27,
     "metadata": {},
     "output_type": "execute_result"
    }
   ],
   "source": [
    "df.groupby('Country')['Price'].agg([('价格均值','mean'),('价格变异稀疏',lambda x:x.std()/x.mean()),('汽车数量','count')])"
   ]
  },
  {
   "cell_type": "code",
   "execution_count": 31,
   "metadata": {},
   "outputs": [
    {
     "data": {
      "text/plain": [
       "a.前三分之一      9069.95\n",
       "b.中间三分之一    13356.40\n",
       "c.后三分之一     15420.65\n",
       "Name: Price, dtype: float64"
      ]
     },
     "execution_count": 31,
     "metadata": {},
     "output_type": "execute_result"
    }
   ],
   "source": [
    "s=pd.Series(np.empty(df.shape[0]))\n",
    "s.iloc[:s.shape[0]//3]='a.前三分之一'\n",
    "s.iloc[s.shape[0]//3:s.shape[0]//3*2]='b.中间三分之一'\n",
    "s.iloc[s.shape[0]//3*2:]='c.后三分之一'\n",
    "df.groupby(s.values)['Price'].mean()"
   ]
  },
  {
   "cell_type": "code",
   "execution_count": 33,
   "metadata": {},
   "outputs": [
    {
     "data": {
      "text/html": [
       "<div>\n",
       "<style scoped>\n",
       "    .dataframe tbody tr th:only-of-type {\n",
       "        vertical-align: middle;\n",
       "    }\n",
       "\n",
       "    .dataframe tbody tr th {\n",
       "        vertical-align: top;\n",
       "    }\n",
       "\n",
       "    .dataframe thead th {\n",
       "        text-align: right;\n",
       "    }\n",
       "</style>\n",
       "<table border=\"1\" class=\"dataframe\">\n",
       "  <thead>\n",
       "    <tr style=\"text-align: right;\">\n",
       "      <th></th>\n",
       "      <th>Price_max</th>\n",
       "      <th>HP_min</th>\n",
       "    </tr>\n",
       "    <tr>\n",
       "      <th>Type</th>\n",
       "      <th></th>\n",
       "      <th></th>\n",
       "    </tr>\n",
       "  </thead>\n",
       "  <tbody>\n",
       "    <tr>\n",
       "      <th>Compact</th>\n",
       "      <td>18900</td>\n",
       "      <td>95</td>\n",
       "    </tr>\n",
       "    <tr>\n",
       "      <th>Large</th>\n",
       "      <td>17257</td>\n",
       "      <td>150</td>\n",
       "    </tr>\n",
       "    <tr>\n",
       "      <th>Medium</th>\n",
       "      <td>24760</td>\n",
       "      <td>110</td>\n",
       "    </tr>\n",
       "    <tr>\n",
       "      <th>Small</th>\n",
       "      <td>9995</td>\n",
       "      <td>63</td>\n",
       "    </tr>\n",
       "    <tr>\n",
       "      <th>Sporty</th>\n",
       "      <td>13945</td>\n",
       "      <td>92</td>\n",
       "    </tr>\n",
       "    <tr>\n",
       "      <th>Van</th>\n",
       "      <td>15395</td>\n",
       "      <td>106</td>\n",
       "    </tr>\n",
       "  </tbody>\n",
       "</table>\n",
       "</div>"
      ],
      "text/plain": [
       "         Price_max  HP_min\n",
       "Type                      \n",
       "Compact      18900      95\n",
       "Large        17257     150\n",
       "Medium       24760     110\n",
       "Small         9995      63\n",
       "Sporty       13945      92\n",
       "Van          15395     106"
      ]
     },
     "execution_count": 33,
     "metadata": {},
     "output_type": "execute_result"
    }
   ],
   "source": [
    "res=df.groupby('Type').agg({\"Price\":['max'],'HP':['min']})\n",
    "res.columns=res.columns.map(lambda x:'_'.join(x))\n",
    "res"
   ]
  },
  {
   "cell_type": "code",
   "execution_count": 34,
   "metadata": {},
   "outputs": [
    {
     "data": {
      "text/plain": [
       "0    1.00\n",
       "1    0.54\n",
       "2    0.00\n",
       "3    0.58\n",
       "4    0.80\n",
       "Name: HP, dtype: float64"
      ]
     },
     "execution_count": 34,
     "metadata": {},
     "output_type": "execute_result"
    }
   ],
   "source": [
    "def normalize(s):\n",
    "    s_min,s_max=s.min(),s.max()\n",
    "    res=(s-s_min)/(s_max-s_min)\n",
    "    return res\n",
    "\n",
    "df.groupby('Type')['HP'].transform(normalize).head()"
   ]
  }
 ],
 "metadata": {
  "kernelspec": {
   "display_name": "Python 3.8.13 ('base')",
   "language": "python",
   "name": "python3"
  },
  "language_info": {
   "codemirror_mode": {
    "name": "ipython",
    "version": 3
   },
   "file_extension": ".py",
   "mimetype": "text/x-python",
   "name": "python",
   "nbconvert_exporter": "python",
   "pygments_lexer": "ipython3",
   "version": "3.8.13"
  },
  "orig_nbformat": 4,
  "vscode": {
   "interpreter": {
    "hash": "3b88469b82ae811b93233b04bceb9556f1e5471f249da73961ed0f437bb25097"
   }
  }
 },
 "nbformat": 4,
 "nbformat_minor": 2
}
